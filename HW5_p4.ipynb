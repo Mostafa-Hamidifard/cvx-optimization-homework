{
  "nbformat": 4,
  "nbformat_minor": 0,
  "metadata": {
    "colab": {
      "provenance": [],
      "authorship_tag": "ABX9TyPz++HqxLeIvEOQdvkLbUfu",
      "include_colab_link": true
    },
    "kernelspec": {
      "name": "python3",
      "display_name": "Python 3"
    },
    "language_info": {
      "name": "python"
    }
  },
  "cells": [
    {
      "cell_type": "markdown",
      "metadata": {
        "id": "view-in-github",
        "colab_type": "text"
      },
      "source": [
        "<a href=\"https://colab.research.google.com/github/Mostafa-Hamidifard/cvx-optimization/blob/main/HW5_p4.ipynb\" target=\"_parent\"><img src=\"https://colab.research.google.com/assets/colab-badge.svg\" alt=\"Open In Colab\"/></a>"
      ]
    },
    {
      "cell_type": "markdown",
      "source": [
        "creating data"
      ],
      "metadata": {
        "id": "UvxCO-ub1XAR"
      }
    },
    {
      "cell_type": "code",
      "execution_count": 21,
      "metadata": {
        "id": "Gv7MuY8FzuEW"
      },
      "outputs": [],
      "source": [
        "#@title\n",
        "import numpy as np\n",
        "import matplotlib.pyplot as plt\n",
        "import cvxpy as cvx\n",
        "np.set_printoptions(precision=5,suppress=True)\n",
        "n = 10;\n",
        "m = 45;\n",
        "m_test = 45;\n",
        "sigma= 0.250;\n",
        "train = np.matrix('''\n",
        "[1 2 1;\n",
        "1 3 1;\n",
        "1 4 1;\n",
        "1 5 1;\n",
        "1 6 1;\n",
        "1 7 1;\n",
        "1 8 1;\n",
        "1 9 1;\n",
        "1 10 1;\n",
        "2 3 -1;\n",
        "2 4 -1;\n",
        "2 5 -1;\n",
        "2 6 -1;\n",
        "2 7 -1;\n",
        "2 8 -1;\n",
        "2 9 -1;\n",
        "2 10 -1;\n",
        "3 4 1;\n",
        "3 5 -1;\n",
        "3 6 -1;\n",
        "3 7 1;\n",
        "3 8 1;\n",
        "3 9 1;\n",
        "3 10 1;\n",
        "4 5 -1;\n",
        "4 6 -1;\n",
        "4 7 1;\n",
        "4 8 1;\n",
        "4 9 -1;\n",
        "4 10 -1;\n",
        "5 6 1;\n",
        "5 7 1;\n",
        "5 8 1;\n",
        "5 9 -1;\n",
        "5 10 1;\n",
        "6 7 1;\n",
        "6 8 1;\n",
        "6 9 -1;\n",
        "6 10 -1;\n",
        "7 8 1;\n",
        "7 9 1;\n",
        "7 10 -1;\n",
        "8 9 -1;\n",
        "8 10 -1;\n",
        "9 10 1]''')\n",
        "\n",
        "test=np.matrix('''[1 2 1;\n",
        "1 3 1;\n",
        "1 4 1;\n",
        "1 5 1;\n",
        "1 6 1;\n",
        "1 7 1;\n",
        "1 8 1;\n",
        "1 9 1;\n",
        "1 10 1;\n",
        "2 3 -1;\n",
        "2 4 1;\n",
        "2 5 -1;\n",
        "2 6 -1;\n",
        "2 7 -1;\n",
        "2 8 1;\n",
        "2 9 -1;\n",
        "2 10 -1;\n",
        "3 4 1;\n",
        "3 5 -1;\n",
        "3 6 1;\n",
        "3 7 1;\n",
        "3 8 1;\n",
        "3 9 -1;\n",
        "3 10 1;\n",
        "4 5 -1;\n",
        "4 6 -1;\n",
        "4 7 -1;\n",
        "4 8 1;\n",
        "4 9 -1;\n",
        "4 10 -1;\n",
        "5 6 -1;\n",
        "5 7 1;\n",
        "5 8 1;\n",
        "5 9 1;\n",
        "5 10 1;\n",
        "6 7 1;\n",
        "6 8 1;\n",
        "6 9 1;\n",
        "6 10 1;\n",
        "7 8 1;\n",
        "7 9 -1;\n",
        "7 10 1;\n",
        "8 9 -1;\n",
        "8 10 -1;\n",
        "9 10 1\n",
        "]''')"
      ]
    },
    {
      "cell_type": "code",
      "source": [
        "j = train[:,0]\n",
        "k = train[:,1]\n",
        "y = train[:,2]\n",
        "A = np.zeros((m,n))\n",
        "for idx1 in range(m):\n",
        "    for idx2 in range(n):\n",
        "        if idx2 == j[idx1]-1:\n",
        "            A[idx1,idx2] = y[idx1]\n",
        "        if idx2 == k[idx1]-1:\n",
        "            A[idx1,idx2] = -y[idx1]\n",
        "a = cvx.Variable((n,1))\n",
        "objective = cvx.sum(cvx.log_normcdf(1/sigma * (A@a)))\n",
        "problem = cvx.Problem(cvx.Maximize(objective),[a>=0 , a<=1])\n",
        "cost = problem.solve()\n",
        "ahat = a.value\n",
        "print(ahat)"
      ],
      "metadata": {
        "colab": {
          "base_uri": "https://localhost:8080/"
        },
        "id": "o5W1Ajv21VXz",
        "outputId": "95402400-ed2f-4d27-a851-bab86c41002e"
      },
      "execution_count": 23,
      "outputs": [
        {
          "output_type": "stream",
          "name": "stdout",
          "text": [
            "[[ 1.     ]\n",
            " [-0.     ]\n",
            " [ 0.67827]\n",
            " [ 0.3687 ]\n",
            " [ 0.79002]\n",
            " [ 0.58131]\n",
            " [ 0.38738]\n",
            " [ 0.08544]\n",
            " [ 0.67005]\n",
            " [ 0.57749]]\n"
          ]
        }
      ]
    },
    {
      "cell_type": "markdown",
      "source": [
        "predicting for test set"
      ],
      "metadata": {
        "id": "7ZA0D49_5t_S"
      }
    },
    {
      "cell_type": "code",
      "source": [
        "jt = test[:,0]\n",
        "kt = test[:,1]\n",
        "yt = test[:,2].flatten()\n",
        "y_pred = np.sign(ahat[jt-1] - ahat[kt-1]).flatten()\n",
        "err = np.sum(np.abs((yt-y_pred)/2))\n",
        "print(f\"accuracy: {1-err/len(y_pred)}\")"
      ],
      "metadata": {
        "colab": {
          "base_uri": "https://localhost:8080/"
        },
        "id": "bhwjFvlF5wzi",
        "outputId": "fd1cf738-ad0e-4885-e3db-c80eaa9d69f4"
      },
      "execution_count": 36,
      "outputs": [
        {
          "output_type": "stream",
          "name": "stdout",
          "text": [
            "accuracy: 0.8666666666666667\n"
          ]
        }
      ]
    },
    {
      "cell_type": "markdown",
      "source": [
        "naive predicting"
      ],
      "metadata": {
        "id": "YGCOGBtIHUnQ"
      }
    },
    {
      "cell_type": "code",
      "source": [
        "err = np.sum(np.abs((yt-y.flatten())/2))\n",
        "print(f\"accuracy: {1-err/len(y)}\")"
      ],
      "metadata": {
        "colab": {
          "base_uri": "https://localhost:8080/"
        },
        "id": "9QR8RPypHT_q",
        "outputId": "6ccc85e9-9e82-4db0-e5c9-a4340dfc6d1a"
      },
      "execution_count": 38,
      "outputs": [
        {
          "output_type": "stream",
          "name": "stdout",
          "text": [
            "accuracy: 0.7555555555555555\n"
          ]
        }
      ]
    }
  ]
}