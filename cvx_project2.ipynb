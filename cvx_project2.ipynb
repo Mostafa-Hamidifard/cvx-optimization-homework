{
  "nbformat": 4,
  "nbformat_minor": 0,
  "metadata": {
    "colab": {
      "provenance": [],
      "authorship_tag": "ABX9TyPgrPqObkdAA/kKf8p6nPgf",
      "include_colab_link": true
    },
    "kernelspec": {
      "name": "python3",
      "display_name": "Python 3"
    },
    "language_info": {
      "name": "python"
    }
  },
  "cells": [
    {
      "cell_type": "markdown",
      "metadata": {
        "id": "view-in-github",
        "colab_type": "text"
      },
      "source": [
        "<a href=\"https://colab.research.google.com/github/Mostafa-Hamidifard/cvx-optimization/blob/main/cvx_project2.ipynb\" target=\"_parent\"><img src=\"https://colab.research.google.com/assets/colab-badge.svg\" alt=\"Open In Colab\"/></a>"
      ]
    },
    {
      "cell_type": "code",
      "execution_count": 10,
      "metadata": {
        "id": "uluTLCpxiys6"
      },
      "outputs": [],
      "source": [
        "import cvxpy as cvx\n",
        "import numpy as np\n",
        "import matplotlib.pyplot as plt\n",
        "np.set_printoptions(linewidth=200)\n",
        "np.random.seed(0x364A_23F2)\n",
        "N = 500\n",
        "n = 10\n",
        "X = np.random.uniform(low=-1, high=1, size=(N, n))\n",
        "y = np.zeros(N)\n",
        "\n",
        "_c = np.random.randn(n)\n",
        "_d = np.random.randn(n)\n",
        "\n",
        "#We generate data as gaussians with mean and variance dependent on the feature x.\n",
        "for i in range(N):\n",
        "    y[i] = np.random.normal(loc=_c.T @ X[i], scale=abs(_d.T @ X[i]))"
      ]
    },
    {
      "cell_type": "code",
      "source": [
        "def phi(j,u):\n",
        "    return 1/2*cvx.abs(u) + (1/2 - 0.1*j)*u\n",
        "\n",
        "v = cvx.Variable((9,1))\n",
        "theta = cvx.Variable((9,n))\n",
        "\n",
        "cost = 0\n",
        "for i in range(N):\n",
        "    for j in range(9):\n",
        "        xi = cvx.transpose(X[i:i+1,:])\n",
        "        u = v[j,0] + theta[j:j+1,:] @ xi - y[i]\n",
        "        cost += phi(j+1,u)\n",
        "const = []\n",
        "for j in range(1,9):\n",
        "    const+= [v[j,0] - v[j-1,0] >= cvx.norm1(theta[j,:]-theta[j-1,:])]\n",
        "\n",
        "problem = cvx.Problem(cvx.Minimize(cost),const)\n",
        "problem.solve()\n"
      ],
      "metadata": {
        "colab": {
          "base_uri": "https://localhost:8080/"
        },
        "id": "zuY008jOjAT7",
        "outputId": "72558dcc-31e7-4a18-b6b9-5971fd48fd15"
      },
      "execution_count": 11,
      "outputs": [
        {
          "output_type": "stream",
          "name": "stderr",
          "text": [
            "/usr/local/lib/python3.10/dist-packages/cvxpy/problems/problem.py:155: UserWarning: Objective contains too many subexpressions. Consider vectorizing your CVXPY code to speed up compilation.\n",
            "  warnings.warn(\"Objective contains too many subexpressions. \"\n"
          ]
        },
        {
          "output_type": "execute_result",
          "data": {
            "text/plain": [
              "3129.3211024692932"
            ]
          },
          "metadata": {},
          "execution_count": 11
        }
      ]
    },
    {
      "cell_type": "code",
      "source": [
        "vopt = v.value\n",
        "print(vopt)"
      ],
      "metadata": {
        "colab": {
          "base_uri": "https://localhost:8080/"
        },
        "id": "TOzh8SLHlj-g",
        "outputId": "a8620167-0b29-4e7f-f6d3-6c1f81d71221"
      },
      "execution_count": 12,
      "outputs": [
        {
          "output_type": "stream",
          "name": "stdout",
          "text": [
            "[[-2.64639137]\n",
            " [-1.34229561]\n",
            " [-0.69946972]\n",
            " [-0.30496747]\n",
            " [-0.02012715]\n",
            " [ 0.29587617]\n",
            " [ 0.86645247]\n",
            " [ 1.48435998]\n",
            " [ 2.68792298]]\n"
          ]
        }
      ]
    },
    {
      "cell_type": "code",
      "source": [
        "thetaopt = theta.value\n",
        "print(thetaopt[0,:])"
      ],
      "metadata": {
        "colab": {
          "base_uri": "https://localhost:8080/"
        },
        "id": "cn3pzuu9oGE3",
        "outputId": "b8f57d01-608f-46f3-8cda-3c4e2a5b7a79"
      },
      "execution_count": 13,
      "outputs": [
        {
          "output_type": "stream",
          "name": "stdout",
          "text": [
            "[ 0.34282921 -1.96368959 -1.20296763  0.06182749  1.14701681 -0.20182779 -0.08099914  1.47574762  0.26975849  1.21092238]\n"
          ]
        }
      ]
    },
    {
      "cell_type": "code",
      "source": [
        "Q = vopt.T + X @ thetaopt.T\n",
        "for i in range(9):\n",
        "    qi = Q[:,i]\n",
        "    res = qi - y\n",
        "    print(np.sum(res >= 0)/500)"
      ],
      "metadata": {
        "colab": {
          "base_uri": "https://localhost:8080/"
        },
        "id": "LIn-LiuRoTkE",
        "outputId": "eaae63ed-7129-42d2-c036-78a1e0d8592d"
      },
      "execution_count": 14,
      "outputs": [
        {
          "output_type": "stream",
          "name": "stdout",
          "text": [
            "0.1\n",
            "0.194\n",
            "0.296\n",
            "0.402\n",
            "0.502\n",
            "0.598\n",
            "0.702\n",
            "0.806\n",
            "0.904\n"
          ]
        }
      ]
    },
    {
      "cell_type": "markdown",
      "source": [
        "fitting model without constraints"
      ],
      "metadata": {
        "id": "UFGqJZXorz7f"
      }
    },
    {
      "cell_type": "code",
      "source": [
        "problem = cvx.Problem(cvx.Minimize(cost),[])\n",
        "problem.solve()"
      ],
      "metadata": {
        "colab": {
          "base_uri": "https://localhost:8080/"
        },
        "id": "jR1XYgN2rzq-",
        "outputId": "558cfc03-535d-4ace-f7b1-8ee35cc9c94a"
      },
      "execution_count": 15,
      "outputs": [
        {
          "output_type": "execute_result",
          "data": {
            "text/plain": [
              "3122.429475196474"
            ]
          },
          "metadata": {},
          "execution_count": 15
        }
      ]
    },
    {
      "cell_type": "code",
      "source": [
        "vopt = v.value\n",
        "print(vopt)"
      ],
      "metadata": {
        "colab": {
          "base_uri": "https://localhost:8080/"
        },
        "id": "cxWbhQpUskxo",
        "outputId": "3f088845-2f1b-4fca-b54b-b215ca4eb7bc"
      },
      "execution_count": 16,
      "outputs": [
        {
          "output_type": "stream",
          "name": "stdout",
          "text": [
            "[[-2.54413669]\n",
            " [-1.34728588]\n",
            " [-0.74604442]\n",
            " [-0.27686327]\n",
            " [-0.03760847]\n",
            " [ 0.25808255]\n",
            " [ 0.88644751]\n",
            " [ 1.48845713]\n",
            " [ 2.71852354]]\n"
          ]
        }
      ]
    },
    {
      "cell_type": "code",
      "source": [
        "thetaopt = theta.value\n",
        "print(thetaopt[0,:])"
      ],
      "metadata": {
        "colab": {
          "base_uri": "https://localhost:8080/"
        },
        "id": "iSiXJZOKspmB",
        "outputId": "317af8e2-a6c6-44ee-9b71-f288f2f6e3bd"
      },
      "execution_count": 17,
      "outputs": [
        {
          "output_type": "stream",
          "name": "stdout",
          "text": [
            "[ 0.53330889 -1.77468807 -1.31942949  0.1528987   1.44823285 -0.13765922 -0.17844532  1.54278969  0.09559465  1.06927663]\n"
          ]
        }
      ]
    },
    {
      "cell_type": "code",
      "source": [
        "x = cvx.Variable((n,1))\n",
        "const = [cvx.norm_inf(x) <= 1]\n",
        "j=1\n",
        "const+= [vopt[j,0] - vopt[j-1,0] + 0.01 <= (thetaopt[j:j+1,:]-thetaopt[j-1:j,:]) @ x]\n",
        "\n",
        "feasibility_problem = cvx.Problem(cvx.Minimize(0),const)\n",
        "feasibility_problem.solve()"
      ],
      "metadata": {
        "colab": {
          "base_uri": "https://localhost:8080/"
        },
        "id": "sgwhdPFksqet",
        "outputId": "7166f952-14a6-49e2-cb13-889769d7fb54"
      },
      "execution_count": 27,
      "outputs": [
        {
          "output_type": "execute_result",
          "data": {
            "text/plain": [
              "0.0"
            ]
          },
          "metadata": {},
          "execution_count": 27
        }
      ]
    },
    {
      "cell_type": "code",
      "source": [
        "xopt = x.value"
      ],
      "metadata": {
        "id": "S95s7jkwu8ZI"
      },
      "execution_count": 30,
      "outputs": []
    },
    {
      "cell_type": "code",
      "source": [
        "np.linalg.norm(xopt,np.inf)"
      ],
      "metadata": {
        "colab": {
          "base_uri": "https://localhost:8080/"
        },
        "id": "AG5_E48IvUgw",
        "outputId": "62032385-1204-46f8-d7ee-661cf2270984"
      },
      "execution_count": 34,
      "outputs": [
        {
          "output_type": "execute_result",
          "data": {
            "text/plain": [
              "0.5993474465338726"
            ]
          },
          "metadata": {},
          "execution_count": 34
        }
      ]
    },
    {
      "cell_type": "code",
      "source": [
        "vopt[j,0] - vopt[j-1,0] < (thetaopt[j:j+1,:]-thetaopt[j-1:j,:]) @ xopt"
      ],
      "metadata": {
        "colab": {
          "base_uri": "https://localhost:8080/"
        },
        "id": "Kf7u5_u2vtgf",
        "outputId": "bd650676-bbd7-4cdd-da91-84132d4f095a"
      },
      "execution_count": 37,
      "outputs": [
        {
          "output_type": "execute_result",
          "data": {
            "text/plain": [
              "array([[ True]])"
            ]
          },
          "metadata": {},
          "execution_count": 37
        }
      ]
    }
  ]
}