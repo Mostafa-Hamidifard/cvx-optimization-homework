{
  "nbformat": 4,
  "nbformat_minor": 0,
  "metadata": {
    "colab": {
      "provenance": [],
      "authorship_tag": "ABX9TyPzPouw39nzcvHB0MECdJrR",
      "include_colab_link": true
    },
    "kernelspec": {
      "name": "python3",
      "display_name": "Python 3"
    },
    "language_info": {
      "name": "python"
    }
  },
  "cells": [
    {
      "cell_type": "markdown",
      "metadata": {
        "id": "view-in-github",
        "colab_type": "text"
      },
      "source": [
        "<a href=\"https://colab.research.google.com/github/Mostafa-Hamidifard/cvx-optimization/blob/main/HW5_p2.ipynb\" target=\"_parent\"><img src=\"https://colab.research.google.com/assets/colab-badge.svg\" alt=\"Open In Colab\"/></a>"
      ]
    },
    {
      "cell_type": "markdown",
      "source": [
        "please ensure that you added pwl_fit_data.csv to your colab "
      ],
      "metadata": {
        "id": "I3CUi1CAcQ44"
      }
    },
    {
      "cell_type": "code",
      "execution_count": null,
      "metadata": {
        "id": "s3eK1bmtbzvv"
      },
      "outputs": [],
      "source": [
        "import pandas as pd\n",
        "import numpy as np\n",
        "df = pd.read_csv('/content/pwl_fit_data.csv')\n",
        "x = df['x'].values\n",
        "y = df['x'].values\n",
        "x = x.reshape((-1,1))\n",
        "y = y.reshape((-1,1))"
      ]
    },
    {
      "cell_type": "code",
      "source": [
        "import cvxpy as cvx\n",
        "internal_knot_number = 3\n",
        "a_ = np.linspace(0,1,internal_knot_number+2,True).reshape((-1,1))\n",
        "K = internal_knot_number + 1\n",
        "alpha_ = cvx.Variable((K,1))\n",
        "beta_ = cvx.Variable((K,1))\n",
        "const1 = []\n",
        "const2 = []\n",
        "for i in range(K-1):\n",
        "    const1+= [alpha_[i] <= alpha_[i+1]]\n",
        "    const2+= [alpha_[i][0] * a_[i+1][0] + beta_[i][0] == alpha_[i+1][0] * a_[i+1][0] + beta_[i+1][0]]\n",
        "constraints = const1 + const2\n",
        "\n",
        "obj = 0\n",
        "for i in range(len(y)):\n",
        "    le = alpha_[0][0]*x[i]+beta_[0][0]\n",
        "    for j in range(1,K-1):\n",
        "        le =  cvx.maximum(le,alpha_[j][0]*x[i]+beta_[j][0])\n",
        "    obj += cvx.norm2(le-y[i])\n",
        "\n",
        "objective = cvx.Minimize(obj)\n",
        "problem = cvx.Problem(objective,constraints)\n",
        "problem.solve()"
      ],
      "metadata": {
        "id": "g74oKuIpc6Mu"
      },
      "execution_count": null,
      "outputs": []
    },
    {
      "cell_type": "code",
      "source": [],
      "metadata": {
        "colab": {
          "base_uri": "https://localhost:8080/"
        },
        "id": "mT-PjDyYf7hr",
        "outputId": "b87a7f05-f2c5-429d-a8ab-dd4e9332c5e7"
      },
      "execution_count": null,
      "outputs": [
        {
          "output_type": "execute_result",
          "data": {
            "text/plain": [
              "Expression(CONVEX, UNKNOWN, ())"
            ]
          },
          "metadata": {},
          "execution_count": 18
        }
      ]
    }
  ]
}