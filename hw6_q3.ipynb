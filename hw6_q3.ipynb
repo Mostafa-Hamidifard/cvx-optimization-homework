{
  "nbformat": 4,
  "nbformat_minor": 0,
  "metadata": {
    "colab": {
      "provenance": [],
      "authorship_tag": "ABX9TyPf3ahf6s2KIhQdkALMh0Jf",
      "include_colab_link": true
    },
    "kernelspec": {
      "name": "python3",
      "display_name": "Python 3"
    },
    "language_info": {
      "name": "python"
    }
  },
  "cells": [
    {
      "cell_type": "markdown",
      "metadata": {
        "id": "view-in-github",
        "colab_type": "text"
      },
      "source": [
        "<a href=\"https://colab.research.google.com/github/Mostafa-Hamidifard/cvx-optimization/blob/main/hw6_q3.ipynb\" target=\"_parent\"><img src=\"https://colab.research.google.com/assets/colab-badge.svg\" alt=\"Open In Colab\"/></a>"
      ]
    },
    {
      "cell_type": "code",
      "execution_count": 1,
      "metadata": {
        "id": "kCcJ8ObLSds8"
      },
      "outputs": [],
      "source": [
        "import cvxpy as cvx\n",
        "import numpy as np\n",
        "import matplotlib.pyplot as plt"
      ]
    },
    {
      "cell_type": "markdown",
      "source": [
        "given data"
      ],
      "metadata": {
        "id": "D_l9r7Z1TZZP"
      }
    },
    {
      "cell_type": "code",
      "source": [
        "N = 10\n",
        "n = 100\n",
        "\n",
        "q = [ (np.exp(-(i-30)**2 / 100 ) + 2*np.exp(-(i-68)**2 / 100)) for i in range(1,101)]\n",
        "q = np.array(q)\n",
        "r = np.array([np.exp(-(i - 50)**2 / 100) for i in range(1,101)])\n",
        "\n",
        "q = q/sum(q)\n",
        "r = r/sum(r)"
      ],
      "metadata": {
        "id": "mBdAcwu-TK4K"
      },
      "execution_count": 3,
      "outputs": []
    },
    {
      "cell_type": "markdown",
      "source": [
        "solving morph problem using euclidean morphing"
      ],
      "metadata": {
        "id": "nzraWbkgTp42"
      }
    },
    {
      "cell_type": "code",
      "source": [
        "P = cvx.Variable((n,N)) # each column is a distribution\n",
        "## constraints\n",
        "const = []\n",
        "for i in range(1,N-1):# 1,3,4,...,N-2\n",
        "    const += (P[:,i:i+1] >= 0)\n",
        "    const += (cvx.sum(P[:,i:i+1]) == 1)\n",
        "const += P[:,0] == q\n",
        "const += P[:,N-1] == r\n",
        "\n"
      ],
      "metadata": {
        "id": "43cIO0OKTzbK"
      },
      "execution_count": null,
      "outputs": []
    }
  ]
}