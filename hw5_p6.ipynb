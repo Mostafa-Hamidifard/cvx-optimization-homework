{
  "nbformat": 4,
  "nbformat_minor": 0,
  "metadata": {
    "colab": {
      "provenance": [],
      "authorship_tag": "ABX9TyM30P6VOq/dTKYc1+WZqsFe",
      "include_colab_link": true
    },
    "kernelspec": {
      "name": "python3",
      "display_name": "Python 3"
    },
    "language_info": {
      "name": "python"
    }
  },
  "cells": [
    {
      "cell_type": "markdown",
      "metadata": {
        "id": "view-in-github",
        "colab_type": "text"
      },
      "source": [
        "<a href=\"https://colab.research.google.com/github/Mostafa-Hamidifard/cvx-optimization/blob/main/hw5_p6.ipynb\" target=\"_parent\"><img src=\"https://colab.research.google.com/assets/colab-badge.svg\" alt=\"Open In Colab\"/></a>"
      ]
    },
    {
      "cell_type": "code",
      "execution_count": null,
      "metadata": {
        "id": "TSfZyBCrlQfJ"
      },
      "outputs": [],
      "source": [
        "import numpy as np\n",
        "import cvxpy as cvx\n",
        "np.random.seed(seed = 16)\n",
        "\n",
        "m = 10\n",
        "n = 20\n",
        "p = 0.2\n",
        "\n",
        "x = np.random.rand(m,2)\n",
        "y = np.random.rand(n,2)\n",
        "Omega = np.random.rand(m,n) > p\n",
        "Omega[0,0] = 0\n",
        "A = Omega * x.dot(y.T)"
      ]
    },
    {
      "cell_type": "code",
      "source": [
        "x = cvx.Variable((m,1))\n",
        "y = cvx.Variable((n,1))\n",
        "\n",
        "const = [x>=0 ,y>=0 , cvx.sum(x) ==1]\n",
        "obj = 0\n",
        "for i in range(m):\n",
        "    for j in range(n):\n",
        "        if A[i][j] == 0:\n",
        "            continue\n",
        "        obj += 1/(m*n) * (cvx.maximum(A[i][j]*cvx.inv_pos(x[i])**2,(y[j]**2)/A[i][j])-1)\n",
        "problem = cvx.Problem(cvx.Minimize(obj),const)\n",
        "problem.solve()"
      ],
      "metadata": {
        "colab": {
          "base_uri": "https://localhost:8080/"
        },
        "id": "3HQAnJ_9lVl-",
        "outputId": "4733c6ee-6501-4ad3-9f5a-0ccbe3b97a96"
      },
      "execution_count": null,
      "outputs": [
        {
          "output_type": "execute_result",
          "data": {
            "text/plain": [
              "27.16690056191628"
            ]
          },
          "metadata": {},
          "execution_count": 34
        }
      ]
    },
    {
      "cell_type": "code",
      "source": [
        "xopt = x.value\n",
        "yopt = y.value\n",
        "A_opt = xopt @ yopt.T"
      ],
      "metadata": {
        "id": "eim5FcnAzgJU"
      },
      "execution_count": null,
      "outputs": []
    },
    {
      "cell_type": "code",
      "source": [
        "print('x1',xopt[0])\n",
        "print('y1',yopt[0])\n",
        "print('x1y1',A_opt[0][0])"
      ],
      "metadata": {
        "colab": {
          "base_uri": "https://localhost:8080/"
        },
        "id": "d7phwqfazqPA",
        "outputId": "2c72faa1-7776-4267-d5c8-f55e7885e5c6"
      },
      "execution_count": null,
      "outputs": [
        {
          "output_type": "stream",
          "name": "stdout",
          "text": [
            "x1 [0.09857659]\n",
            "y1 [0.39670653]\n",
            "x1y1 0.03910597898241236\n"
          ]
        }
      ]
    }
  ]
}