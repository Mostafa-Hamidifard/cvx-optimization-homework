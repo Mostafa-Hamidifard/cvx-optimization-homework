{
  "nbformat": 4,
  "nbformat_minor": 0,
  "metadata": {
    "colab": {
      "provenance": [],
      "authorship_tag": "ABX9TyMd+E5N0IP8B7YFUFxb034f",
      "include_colab_link": true
    },
    "kernelspec": {
      "name": "python3",
      "display_name": "Python 3"
    },
    "language_info": {
      "name": "python"
    }
  },
  "cells": [
    {
      "cell_type": "markdown",
      "metadata": {
        "id": "view-in-github",
        "colab_type": "text"
      },
      "source": [
        "<a href=\"https://colab.research.google.com/github/Mostafa-Hamidifard/cvx-optimization/blob/main/hw5_p6.ipynb\" target=\"_parent\"><img src=\"https://colab.research.google.com/assets/colab-badge.svg\" alt=\"Open In Colab\"/></a>"
      ]
    },
    {
      "cell_type": "code",
      "execution_count": 55,
      "metadata": {
        "id": "TSfZyBCrlQfJ"
      },
      "outputs": [],
      "source": [
        "import numpy as np\n",
        "import cvxpy as cvx\n",
        "np.random.seed(seed = 16)\n",
        "\n",
        "m = 10\n",
        "n = 20\n",
        "p = 0.2\n",
        "\n",
        "x = np.random.rand(m,2)\n",
        "y = np.random.rand(n,2)\n",
        "Omega = np.random.rand(m,n) > p\n",
        "Omega[0,0] = 0\n",
        "A = Omega * x.dot(y.T)"
      ]
    },
    {
      "cell_type": "code",
      "source": [
        "u = cvx.Variable((m,1))\n",
        "v = cvx.Variable((n,1))\n",
        "\n",
        "obj = 0\n",
        "S = u.T + v\n",
        "# reshaping\n",
        "S = cvx.reshape(S,(m*n,1))\n",
        "Omega = Omega.reshape((-1,1))\n",
        "A = A.reshape((-1,1))\n",
        "# log sum exp\n",
        "sum = cvx.abs(S[Omega] - np.log(A[Omega]))\n",
        "obj = cvx.log_sum_exp(sum)\n",
        "objective = cvx.Minimize(obj)\n",
        "problem = cvx.Problem(objective)\n",
        "problem.solve()\n",
        "print(S.shape)"
      ],
      "metadata": {
        "colab": {
          "base_uri": "https://localhost:8080/"
        },
        "id": "3HQAnJ_9lVl-",
        "outputId": "106f5c23-4fb5-4971-d478-a9401e8b0455"
      },
      "execution_count": 56,
      "outputs": [
        {
          "output_type": "stream",
          "name": "stdout",
          "text": [
            "(200, 1)\n"
          ]
        }
      ]
    },
    {
      "cell_type": "code",
      "source": [
        "x_hat = np.exp(u.value)\n",
        "y_hat = np.exp(v.value)\n",
        "# normalizing\n",
        "alpha = np.sum(x_hat)\n",
        "# actual optimal x and y\n",
        "xopt = x_hat/alpha\n",
        "yopt = y_hat * alpha\n",
        "print(\"x[0]: \",xopt[0])\n",
        "print('y[0]: ',yopt[0])\n",
        "print('A[0][0]: ',yopt[0]*xopt[0])"
      ],
      "metadata": {
        "colab": {
          "base_uri": "https://localhost:8080/"
        },
        "id": "hKNZGRHmsVGy",
        "outputId": "f5d4caa6-6695-4b81-8452-64fff7ffbfa9"
      },
      "execution_count": 57,
      "outputs": [
        {
          "output_type": "stream",
          "name": "stdout",
          "text": [
            "x[0]:  [0.09823694]\n",
            "y[0]:  [2.77716738]\n",
            "A[0][0]:  [0.27282042]\n"
          ]
        }
      ]
    },
    {
      "cell_type": "code",
      "source": [
        "x.dot(y.T)[0,0]"
      ],
      "metadata": {
        "colab": {
          "base_uri": "https://localhost:8080/"
        },
        "id": "gQiaLgK4YUTh",
        "outputId": "82bd66ad-ef67-41d0-c316-79bb9deb488f"
      },
      "execution_count": 58,
      "outputs": [
        {
          "output_type": "execute_result",
          "data": {
            "text/plain": [
              "0.5070913482095847"
            ]
          },
          "metadata": {},
          "execution_count": 58
        }
      ]
    }
  ]
}