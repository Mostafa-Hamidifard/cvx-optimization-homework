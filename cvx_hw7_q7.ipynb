{
  "nbformat": 4,
  "nbformat_minor": 0,
  "metadata": {
    "colab": {
      "provenance": [],
      "authorship_tag": "ABX9TyMT01bP+TbuWxEsZ+Yag2co",
      "include_colab_link": true
    },
    "kernelspec": {
      "name": "python3",
      "display_name": "Python 3"
    },
    "language_info": {
      "name": "python"
    }
  },
  "cells": [
    {
      "cell_type": "markdown",
      "metadata": {
        "id": "view-in-github",
        "colab_type": "text"
      },
      "source": [
        "<a href=\"https://colab.research.google.com/github/Mostafa-Hamidifard/cvx-optimization/blob/main/cvx_hw7_q7.ipynb\" target=\"_parent\"><img src=\"https://colab.research.google.com/assets/colab-badge.svg\" alt=\"Open In Colab\"/></a>"
      ]
    },
    {
      "cell_type": "code",
      "execution_count": 36,
      "metadata": {
        "id": "k-OWCG93bMLd"
      },
      "outputs": [],
      "source": [
        "import cvxpy as cvx\n",
        "import numpy as np\n",
        "\n",
        "\n",
        "V1 = 1000\n",
        "r1 = 1\n",
        "R2 = 1000\n",
        "R5 = 100\n",
        "VT = 26\n",
        "IS = 1\n",
        "\n",
        "A = np.array([[1 , 1 , 0 , 0 ,0],[0 ,-1 ,1,1 ,0],[0,0,0,-1,1]])\n",
        "def phi_r(curr,R):\n",
        "    return R/2 * curr**2\n",
        "def phi_d(curr):\n",
        "    x = (1+curr/IS)\n",
        "    return VT*IS * (-cvx.entr(x) - (x-1)) \n",
        "def phi_v(curr,V,r):\n",
        "    return V*curr + r/2 * curr**2"
      ]
    },
    {
      "cell_type": "code",
      "source": [
        "I = cvx.Variable((5,1))\n",
        "psi = phi_v(I[0][0],V1,r1) + phi_r(I[1][0],R2) + phi_d(I[2][0]) + phi_d(I[3][0]) +phi_r(I[4][0],R5)\n",
        "const = [A@I==0]\n",
        "\n",
        "problem = cvx.Problem(cvx.Minimize(psi),const)\n",
        "problem.solve()\n",
        "\n"
      ],
      "metadata": {
        "colab": {
          "base_uri": "https://localhost:8080/"
        },
        "id": "AL7zaG_idJzA",
        "outputId": "115fde48-9ae3-40e2-c26e-da3b1f951a60"
      },
      "execution_count": 37,
      "outputs": [
        {
          "output_type": "execute_result",
          "data": {
            "text/plain": [
              "-490.77819799933167"
            ]
          },
          "metadata": {},
          "execution_count": 37
        }
      ]
    },
    {
      "cell_type": "markdown",
      "source": [
        "finding circuit variables"
      ],
      "metadata": {
        "id": "rBzjbiDOfbqE"
      }
    },
    {
      "cell_type": "code",
      "source": [
        "contraint = const[0]\n",
        "e = -contraint.dual_value\n",
        "Iopt = I.value.flatten()\n",
        "phi_s = np.array([V1+r1*Iopt[0] ,R2*Iopt[1] , VT * np.log(1+Iopt[2]/IS), VT * np.log(1+Iopt[3]/IS),R5*Iopt[4]])"
      ],
      "metadata": {
        "id": "FoyZHrhle8jZ"
      },
      "execution_count": 38,
      "outputs": []
    },
    {
      "cell_type": "code",
      "source": [
        "print(\"voltage=phi(i) is:\")\n",
        "print(phi_s.reshape((-1,1)))\n",
        "print(\"A.T@e:\")\n",
        "print(A.T@e)\n",
        "print(\"error norm:\")\n",
        "print(np.linalg.norm(phi_s.reshape((-1,1))-A.T@e))"
      ],
      "metadata": {
        "colab": {
          "base_uri": "https://localhost:8080/"
        },
        "id": "OP2fC5VNh6ES",
        "outputId": "11c96499-e176-4740-e321-e3611f02d4a4"
      },
      "execution_count": 43,
      "outputs": [
        {
          "output_type": "stream",
          "name": "stdout",
          "text": [
            "voltage=phi(i) is:\n",
            "[[999.01703386]\n",
            " [982.96613594]\n",
            " [ 16.05094564]\n",
            " [  3.15391948]\n",
            " [ 12.89687387]]\n",
            "A.T@e:\n",
            "[[999.017032  ]\n",
            " [982.96609486]\n",
            " [ 16.05093715]\n",
            " [  3.15391558]\n",
            " [ 12.89702156]]\n",
            "error norm:\n",
            "0.00015359466182786888\n"
          ]
        }
      ]
    },
    {
      "cell_type": "code",
      "source": [
        "print(\"A*I:\")\n",
        "print(A@Iopt.reshape((-1,1)))"
      ],
      "metadata": {
        "colab": {
          "base_uri": "https://localhost:8080/"
        },
        "id": "Y0qkEXxJiJOk",
        "outputId": "ae0f13c6-4881-4f34-de3b-6910c9600575"
      },
      "execution_count": 40,
      "outputs": [
        {
          "output_type": "stream",
          "name": "stdout",
          "text": [
            "A*I:\n",
            "[[-6.65959954e-10]\n",
            " [-7.87514498e-12]\n",
            " [ 6.14175377e-12]]\n"
          ]
        }
      ]
    }
  ]
}