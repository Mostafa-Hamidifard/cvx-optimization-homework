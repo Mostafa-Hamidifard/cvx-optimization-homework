{
  "nbformat": 4,
  "nbformat_minor": 0,
  "metadata": {
    "colab": {
      "provenance": [],
      "authorship_tag": "ABX9TyML4xzbaUeH7tJGzaottHMw",
      "include_colab_link": true
    },
    "kernelspec": {
      "name": "python3",
      "display_name": "Python 3"
    },
    "language_info": {
      "name": "python"
    }
  },
  "cells": [
    {
      "cell_type": "markdown",
      "metadata": {
        "id": "view-in-github",
        "colab_type": "text"
      },
      "source": [
        "<a href=\"https://colab.research.google.com/github/Mostafa-Hamidifard/cvx-optimization/blob/main/hw6_q8.ipynb\" target=\"_parent\"><img src=\"https://colab.research.google.com/assets/colab-badge.svg\" alt=\"Open In Colab\"/></a>"
      ]
    },
    {
      "cell_type": "code",
      "execution_count": 24,
      "metadata": {
        "id": "TNQrVIQ2nGim"
      },
      "outputs": [],
      "source": [
        "import numpy as np\n",
        "import cvxpy as cvx\n",
        "n = 10 # number of variables\n",
        "k = 6  # number of designs\n",
        "\n",
        "# component widths from known designas\n",
        "# each column of W is a different design\n",
        "W =([[ 1.8381,  1.5803, 12.4483,  4.4542,  6.5637,  5.8225],\n",
        "    [ 1.0196,  3.0467, 18.4965,  3.6186,  7.6979,  2.3292],\n",
        "    [ 1.6813,  1.9083, 17.3244,  4.677 ,  4.6581, 27.0291],\n",
        "    [ 1.3795,  2.625 , 14.6737,  4.1361,  7.161 ,  7.5759],\n",
        "    [ 1.8318,  1.4526, 17.2696,  3.7408,  2.2107, 10.3642],\n",
        "    [ 1.5028,  3.0937, 14.9034,  4.4055,  7.8582, 20.5204],\n",
        "    [ 1.7095,  2.1351, 10.1296,  4.0931,  2.9001,  9.9634],\n",
        "    [ 1.4289,  3.58  ,  9.3459,  3.8898,  2.7663, 15.1383],\n",
        "    [ 1.3046,  3.561 , 10.1179,  4.3891,  7.1302,  3.8139],\n",
        "    [ 1.1897,  2.7807, 13.0112,  4.2426,  6.1611, 29.6734]])\n",
        "W = np.array(W)\n",
        "\n",
        "(W_min, W_max) = (1.0, 30.0)\n",
        "\n",
        "# objective values for the different designs\n",
        "# entry j gives the objective for design j\n",
        "P = np.array([ 29.0148,  46.3369, 282.1749,  78.5183, 104.8087, 253.5439])\n",
        "D = np.array([15.9522, 11.5012,  4.8148,  8.5697,  8.087 ,  6.0273])\n",
        "A = np.array([ 22.3796,  38.7908, 204.1574,  62.5563,  81.2272, 200.5119])\n",
        "\n",
        "# specifications\n",
        "(P_spec, D_spec, A_spec) = (60.0, 10.0, 50.0)"
      ]
    },
    {
      "cell_type": "code",
      "source": [
        "P_l = np.log(P.reshape((-1,1)))\n",
        "D_l = np.log(D.reshape((-1,1)))\n",
        "A_l = np.log(A.reshape((-1,1)))\n",
        "(P_spec_l, D_spec_l, A_spec_l) = (np.log(P_spec), np.log(D_spec), np.log(A_spec))\n",
        "tta = cvx.Variable((k,1))\n",
        "\n",
        "const = [cvx.sum(tta) == 1 , tta >= 0]\n",
        "const += [tta.T @ P_l <= P_spec_l]\n",
        "const += [tta.T @ A_l <= A_spec_l]\n",
        "const += [tta.T @ D_l <= D_spec_l]\n",
        "# ww = cvx.exp(cvx.log(W)@tta)\n",
        "problem = cvx.Problem(cvx.Minimize(0),const)\n",
        "problem.solve()\n"
      ],
      "metadata": {
        "colab": {
          "base_uri": "https://localhost:8080/"
        },
        "id": "2ec7clEWnuv9",
        "outputId": "82c6e273-f671-4415-ff20-9ec2567eb3f9"
      },
      "execution_count": 25,
      "outputs": [
        {
          "output_type": "execute_result",
          "data": {
            "text/plain": [
              "0.0"
            ]
          },
          "metadata": {},
          "execution_count": 25
        }
      ]
    },
    {
      "cell_type": "code",
      "source": [
        "print('tta:')\n",
        "print(tta.value)\n",
        "w = np.exp(np.log(W)@tta.value)\n",
        "print('W:')\n",
        "print(w)"
      ],
      "metadata": {
        "colab": {
          "base_uri": "https://localhost:8080/"
        },
        "id": "Nn0XncIQqLNC",
        "outputId": "ad14ed54-b7b2-44ca-9f15-a1ed38aad5c0"
      },
      "execution_count": 26,
      "outputs": [
        {
          "output_type": "stream",
          "name": "stdout",
          "text": [
            "tta:\n",
            "[[0.01758686]\n",
            " [0.49673786]\n",
            " [0.00452331]\n",
            " [0.47531367]\n",
            " [0.00408995]\n",
            " [0.00174836]]\n",
            "W:\n",
            "[[2.63859837]\n",
            " [3.28069166]\n",
            " [2.96934036]\n",
            " [3.26617754]\n",
            " [2.32426888]\n",
            " [3.66532996]\n",
            " [2.92976112]\n",
            " [3.68571815]\n",
            " [3.8940303 ]\n",
            " [3.3972013 ]]\n"
          ]
        }
      ]
    },
    {
      "cell_type": "markdown",
      "source": [
        "finding one of extremes"
      ],
      "metadata": {
        "id": "0Kjthx7h4Tit"
      }
    },
    {
      "cell_type": "code",
      "source": [
        "ww = cvx.exp(cvx.log(W)@tta)\n",
        "problem = cvx.Problem(cvx.Minimize(ww[0]),const)\n",
        "problem.solve()\n",
        "print('tta with extreme w[0]:')\n",
        "print(tta.value)\n",
        "w = np.exp(np.log(W)@tta.value)\n",
        "print('W with extreme w[0]:')\n",
        "print(w)"
      ],
      "metadata": {
        "colab": {
          "base_uri": "https://localhost:8080/"
        },
        "id": "L7goqipR4THN",
        "outputId": "da4e63e6-2601-4d8e-821c-7474db2b2848"
      },
      "execution_count": 27,
      "outputs": [
        {
          "output_type": "stream",
          "name": "stdout",
          "text": [
            "tta with extreme w[0]:\n",
            "[[5.41620585e-10]\n",
            " [5.85960710e-01]\n",
            " [3.13044294e-02]\n",
            " [3.82734854e-01]\n",
            " [2.38576448e-09]\n",
            " [1.60926041e-09]]\n",
            "W with extreme w[0]:\n",
            "[[2.50635245]\n",
            " [3.44305258]\n",
            " [2.8816635 ]\n",
            " [3.29687169]\n",
            " [2.25443183]\n",
            " [3.72056929]\n",
            " [2.87580476]\n",
            " [3.80823871]\n",
            " [3.98586673]\n",
            " [3.43049367]]\n"
          ]
        }
      ]
    }
  ]
}