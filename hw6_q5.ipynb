{
  "nbformat": 4,
  "nbformat_minor": 0,
  "metadata": {
    "colab": {
      "provenance": [],
      "authorship_tag": "ABX9TyMS4R+LHyxJ3QBgyVShGnXQ",
      "include_colab_link": true
    },
    "kernelspec": {
      "name": "python3",
      "display_name": "Python 3"
    },
    "language_info": {
      "name": "python"
    }
  },
  "cells": [
    {
      "cell_type": "markdown",
      "metadata": {
        "id": "view-in-github",
        "colab_type": "text"
      },
      "source": [
        "<a href=\"https://colab.research.google.com/github/Mostafa-Hamidifard/cvx-optimization/blob/main/hw6_q5.ipynb\" target=\"_parent\"><img src=\"https://colab.research.google.com/assets/colab-badge.svg\" alt=\"Open In Colab\"/></a>"
      ]
    },
    {
      "cell_type": "code",
      "execution_count": 298,
      "metadata": {
        "colab": {
          "base_uri": "https://localhost:8080/"
        },
        "id": "9MQmwTAsdCqY",
        "outputId": "cfa0f7dd-8838-4d32-ee78-d86baa8f7011"
      },
      "outputs": [
        {
          "output_type": "execute_result",
          "data": {
            "text/plain": [
              "(2, 35)"
            ]
          },
          "metadata": {},
          "execution_count": 298
        }
      ],
      "source": [
        "import cvxpy as cvx\n",
        "import numpy as np\n",
        "import matplotlib.pyplot as plt\n",
        "np.set_printoptions(precision=3,suppress=True)\n",
        "data = np.matrix('''-10.29   37.289;\n",
        "   1.9409   0.0079;\n",
        "   1.2120   1.2379 ; \n",
        "   -0.0078   0.2580 ;  \n",
        "   2.0823   0.8685   ;\n",
        "   1.3899   1.0880   ;\n",
        "   0.3645   0.4404   ;\n",
        "   1.4437   0.0501   ;\n",
        "   1.7812   1.5690   ;\n",
        "   0.1783   0.7344   ;\n",
        "   -0.1878   -1.2023  ; \n",
        "   1.9863   0.4814   ;\n",
        "   1.3274   1.2341   ;\n",
        "   1.0215   -0.0039   ;\n",
        "   0.0529   0.6256   ;\n",
        "   -0.1859   -0.0559  ; \n",
        "   2.4725   1.0557   ;\n",
        "   -0.2173   0.9588   ;\n",
        "   -0.1283   -0.3493  ; \n",
        "   0.7389   1.9535   ;\n",
        "   1.1286   1.6565   ;\n",
        "   -0.1678   0.5394   ;\n",
        "   0.7376   -0.2132   ;\n",
        "   -0.3194   1.9312   ;\n",
        "   1.0112   0.3549   ;\n",
        "   1.8057   1.2316   ;\n",
        "   0.0102   2.3396   ;\n",
        "   1.2895   2.4789   ;\n",
        "   2.1380   0.3159   ;\n",
        "   -0.2919   0.9271   ;\n",
        "   0.6694   0.1564   ;\n",
        "   8.4665   23.3274   ;\n",
        "   -7.1971   -11.7014  ; \n",
        "   -11.8130   -17.0197  ; \n",
        "   -0.1900   24.0273''').T\n",
        "data.shape\n"
      ]
    },
    {
      "cell_type": "code",
      "source": [
        "plt.plot(data[0,:].T,data[1,:].T,'.')\n",
        "plt.axis('equal')\n",
        "plt.grid(True)\n",
        "plt.show()"
      ],
      "metadata": {
        "colab": {
          "base_uri": "https://localhost:8080/",
          "height": 435
        },
        "id": "WG68ni35dqpH",
        "outputId": "e0de0062-956e-4c3a-da90-46081aad34cd"
      },
      "execution_count": 299,
      "outputs": [
        {
          "output_type": "display_data",
          "data": {
            "text/plain": [
              "<Figure size 640x480 with 1 Axes>"
            ],
            "image/png": "[encoded data removed]"
          },
          "metadata": {}
        }
      ]
    },
    {
      "cell_type": "code",
      "source": [
        "def run_opt(X):\n",
        "    m = X.shape[1]\n",
        "    A = cvx.Variable((2,2),symmetric=True)\n",
        "    b = cvx.Variable((2,1))\n",
        "    volume = (-cvx.log_det(A))\n",
        "    const = []\n",
        "    for i in range(m):\n",
        "        xi = X[:,i:i+1]\n",
        "        const += [cvx.norm( cvx.vec(A@xi + b),2)<= 1]\n",
        "    const += [A>>0]\n",
        "    obj = cvx.Minimize(volume)\n",
        "    problem = cvx.Problem(obj,const)\n",
        "    problem.solve(solver='SCS',eps=1e-11)\n",
        "    \n",
        "    duals = np.zeros((m,1))\n",
        "    for j in range(m):\n",
        "        duals[j] = const[j].dual_value\n",
        "    idx = np.argmax(duals)\n",
        "    return idx,problem.value"
      ],
      "metadata": {
        "id": "xf8Rtt60d891"
      },
      "execution_count": 300,
      "outputs": []
    },
    {
      "cell_type": "markdown",
      "source": [
        "checking how many outlier we have using plot"
      ],
      "metadata": {
        "id": "6yUCN_KoWZFb"
      }
    },
    {
      "cell_type": "code",
      "source": [
        "O = np.array([[],[]])\n",
        "X = data.copy()\n",
        "vol_list = []\n",
        "for k in range(15):\n",
        "    idx,volume_val =run_opt(X)\n",
        "    vol_list.append(volume_val)\n",
        "    O = np.append(O,X[:,idx:idx+1],axis=1)\n",
        "    X = np.delete(X,idx,axis=1)\n",
        "print(vol_list)"
      ],
      "metadata": {
        "colab": {
          "base_uri": "https://localhost:8080/"
        },
        "id": "W9F3C8wuh3ua",
        "outputId": "14470492-69b6-4085-e2b2-99121486c9a0"
      },
      "execution_count": 301,
      "outputs": [
        {
          "output_type": "stream",
          "name": "stdout",
          "text": [
            "[5.992113051211168, 5.820259856549233, 5.297870396069092, 4.585667577221027, 4.548058836788339, 3.204538871597598, 0.9619599620126977, 0.8685894923751452, 0.7377946232259424, 0.67206374818854, 0.5597091135075791, 0.49382367399259786, 0.33201317100604566, 0.3247644495732893, 0.3223865390344819]\n"
          ]
        }
      ]
    },
    {
      "cell_type": "code",
      "source": [
        "plt.plot(np.exp(vol_list))\n",
        "plt.yscale(\"log\")"
      ],
      "metadata": {
        "colab": {
          "base_uri": "https://localhost:8080/",
          "height": 430
        },
        "id": "YzIotGJUla6T",
        "outputId": "e99af982-199a-45eb-b2ce-4e2041985759"
      },
      "execution_count": 302,
      "outputs": [
        {
          "output_type": "display_data",
          "data": {
            "text/plain": [
              "<Figure size 640x480 with 1 Axes>"
            ],
            "image/png": "[encoded data removed]"
          },
          "metadata": {}
        }
      ]
    },
    {
      "cell_type": "markdown",
      "source": [
        "removing outliers and plotting data"
      ],
      "metadata": {
        "id": "3xR6ABMLWguo"
      }
    },
    {
      "cell_type": "code",
      "source": [
        "N_outlier = 6\n",
        "O = np.array([[],[]])\n",
        "X = data.copy()\n",
        "vol_list = []\n",
        "for k in range(N_outlier):\n",
        "    idx,volume_val =run_opt(X)\n",
        "    vol_list.append(volume_val)\n",
        "    O = np.append(O,X[:,idx:idx+1],axis=1)\n",
        "    X = np.delete(X,idx,axis=1)\n",
        "plt.plot(X[0,:].T,X[1,:].T,'.')\n",
        "plt.plot(O[0,:].T,O[1,:].T,'*r')\n",
        "plt.axis('equal')\n",
        "plt.grid(True)\n",
        "plt.show()"
      ],
      "metadata": {
        "id": "oXoAM9yGNCQA",
        "colab": {
          "base_uri": "https://localhost:8080/",
          "height": 472
        },
        "outputId": "908a68a1-bbfa-40dc-e2a6-662698ad9a24"
      },
      "execution_count": 303,
      "outputs": [
        {
          "output_type": "stream",
          "name": "stdout",
          "text": [
            "[5.992113051211168, 5.820259856549233, 5.297870396069092, 4.585667577221027, 4.548058836788339, 3.204538871597598]\n"
          ]
        },
        {
          "output_type": "display_data",
          "data": {
            "text/plain": [
              "<Figure size 640x480 with 1 Axes>"
            ],
            "image/png": "[encoded data removed]"
          },
          "metadata": {}
        }
      ]
    },
    {
      "cell_type": "code",
      "source": [],
      "metadata": {
        "id": "Ve0hTKufGo6Q"
      },
      "execution_count": 303,
      "outputs": []
    },
    {
      "cell_type": "code",
      "source": [],
      "metadata": {
        "id": "a-REyFH6XoQC"
      },
      "execution_count": 303,
      "outputs": []
    }
  ]
}