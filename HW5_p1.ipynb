{
  "nbformat": 4,
  "nbformat_minor": 0,
  "metadata": {
    "colab": {
      "provenance": [],
      "authorship_tag": "ABX9TyPkDiYq6qB2RtKJQ4EqSzJF",
      "include_colab_link": true
    },
    "kernelspec": {
      "name": "python3",
      "display_name": "Python 3"
    },
    "language_info": {
      "name": "python"
    }
  },
  "cells": [
    {
      "cell_type": "markdown",
      "metadata": {
        "id": "view-in-github",
        "colab_type": "text"
      },
      "source": [
        "<a href=\"https://colab.research.google.com/github/Mostafa-Hamidifard/cvx-optimization/blob/main/HW5_p1.ipynb\" target=\"_parent\"><img src=\"https://colab.research.google.com/assets/colab-badge.svg\" alt=\"Open In Colab\"/></a>"
      ]
    },
    {
      "cell_type": "code",
      "execution_count": null,
      "metadata": {
        "id": "EnsB3avSx5Vo"
      },
      "outputs": [],
      "source": [
        "import numpy as np\n",
        "import cvxpy as cvx\n",
        "np.random.seed(0)\n",
        "(m,n) = (100,30)\n",
        "A = np.random.rand(m,n)\n",
        "b = np.random.rand(m,1)"
      ]
    },
    {
      "cell_type": "code",
      "source": [
        "x = cvx.Variable((n,1))\n",
        "r = cvx.Variable((m,1))\n",
        "summation = 0\n",
        "for i in range(m):\n",
        "    summation += cvx.power(cvx.abs(r[i]),1.5)\n",
        "objective = cvx.Minimize(summation)\n",
        "constraints = [A@x-b==r]\n",
        "problem = cvx.Problem(objective,constraints)\n",
        "problem.solve()"
      ],
      "metadata": {
        "colab": {
          "base_uri": "https://localhost:8080/"
        },
        "id": "c2IUh1r7yvrS",
        "outputId": "8f95a215-1620-425b-8d38-79f289fa57ab"
      },
      "execution_count": 11,
      "outputs": [
        {
          "output_type": "execute_result",
          "data": {
            "text/plain": [
              "8.637426644942568"
            ]
          },
          "metadata": {},
          "execution_count": 11
        }
      ]
    }
  ]
}